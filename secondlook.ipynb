{
 "cells": [
  {
   "cell_type": "code",
   "execution_count": 1,
   "metadata": {
    "collapsed": true
   },
   "outputs": [],
   "source": [
    "from PIL import Image\n",
    "import pandas as pd\n",
    "%matplotlib inline\n",
    "import numpy as np"
   ]
  },
  {
   "cell_type": "code",
   "execution_count": 2,
   "metadata": {
    "collapsed": true
   },
   "outputs": [],
   "source": [
    "DATA = \"/Users/damoncrockett/Desktop/phew_hsv_crop_no-bw.csv\""
   ]
  },
  {
   "cell_type": "code",
   "execution_count": 3,
   "metadata": {
    "collapsed": false
   },
   "outputs": [],
   "source": [
    "df = pd.read_csv(DATA)"
   ]
  },
  {
   "cell_type": "code",
   "execution_count": 4,
   "metadata": {
    "collapsed": false
   },
   "outputs": [
    {
     "name": "stdout",
     "output_type": "stream",
     "text": [
      "<class 'pandas.core.frame.DataFrame'>\n",
      "RangeIndex: 865583 entries, 0 to 865582\n",
      "Data columns (total 8 columns):\n",
      "basename      865583 non-null object\n",
      "local_path    865583 non-null object\n",
      "secpast       865583 non-null int64\n",
      "hue           865583 non-null float64\n",
      "sat           865583 non-null float64\n",
      "val           865583 non-null float64\n",
      "width         865583 non-null int64\n",
      "height        865583 non-null int64\n",
      "dtypes: float64(3), int64(3), object(2)\n",
      "memory usage: 52.8+ MB\n"
     ]
    }
   ],
   "source": [
    "df.info()"
   ]
  },
  {
   "cell_type": "code",
   "execution_count": 5,
   "metadata": {
    "collapsed": false
   },
   "outputs": [
    {
     "data": {
      "text/plain": [
       "1.0"
      ]
     },
     "execution_count": 5,
     "metadata": {},
     "output_type": "execute_result"
    }
   ],
   "source": [
    "np.mean(df.width==df.height)"
   ]
  },
  {
   "cell_type": "code",
   "execution_count": 6,
   "metadata": {
    "collapsed": false
   },
   "outputs": [
    {
     "data": {
      "text/plain": [
       "2"
      ]
     },
     "execution_count": 6,
     "metadata": {},
     "output_type": "execute_result"
    }
   ],
   "source": [
    "df.width.min()"
   ]
  },
  {
   "cell_type": "code",
   "execution_count": 7,
   "metadata": {
    "collapsed": true
   },
   "outputs": [],
   "source": [
    "df = df[df.width>15]"
   ]
  },
  {
   "cell_type": "code",
   "execution_count": 8,
   "metadata": {
    "collapsed": false
   },
   "outputs": [
    {
     "name": "stdout",
     "output_type": "stream",
     "text": [
      "<class 'pandas.core.frame.DataFrame'>\n",
      "Int64Index: 811205 entries, 0 to 865570\n",
      "Data columns (total 8 columns):\n",
      "basename      811205 non-null object\n",
      "local_path    811205 non-null object\n",
      "secpast       811205 non-null int64\n",
      "hue           811205 non-null float64\n",
      "sat           811205 non-null float64\n",
      "val           811205 non-null float64\n",
      "width         811205 non-null int64\n",
      "height        811205 non-null int64\n",
      "dtypes: float64(3), int64(3), object(2)\n",
      "memory usage: 55.7+ MB\n"
     ]
    }
   ],
   "source": [
    "df.info()"
   ]
  },
  {
   "cell_type": "markdown",
   "metadata": {},
   "source": [
    "### Plot"
   ]
  },
  {
   "cell_type": "code",
   "execution_count": 9,
   "metadata": {
    "collapsed": true
   },
   "outputs": [],
   "source": [
    "thumb_side = 16\n",
    "sort_vars = ['val']"
   ]
  },
  {
   "cell_type": "code",
   "execution_count": 10,
   "metadata": {
    "collapsed": true
   },
   "outputs": [],
   "source": [
    "def cratio(nbins):\n",
    "    df['xbin'] = pd.cut(df.secpast,nbins,labels=False)\n",
    "    bin_max = df.groupby('xbin').size().max()\n",
    "    diff = 2*np.pi - float(nbins)/bin_max\n",
    "    return diff"
   ]
  },
  {
   "cell_type": "code",
   "execution_count": 11,
   "metadata": {
    "collapsed": false
   },
   "outputs": [],
   "source": [
    "import matplotlib.pyplot as plt"
   ]
  },
  {
   "cell_type": "code",
   "execution_count": 15,
   "metadata": {
    "collapsed": false
   },
   "outputs": [
    {
     "data": {
      "text/plain": [
       "[<matplotlib.lines.Line2D at 0x1014a5550>]"
      ]
     },
     "execution_count": 15,
     "metadata": {},
     "output_type": "execute_result"
    },
    {
     "data": {
      "image/png": "[encoded data removed]",
      "text/plain": [
       "<matplotlib.figure.Figure at 0x106812410>"
      ]
     },
     "metadata": {},
     "output_type": "display_data"
    }
   ],
   "source": [
    "nbins = range(3600,3720)\n",
    "cratios = [cratio(item) for item in nbins]\n",
    "fig,ax = plt.subplots()\n",
    "ax.plot(nbins,cratios)"
   ]
  },
  {
   "cell_type": "code",
   "execution_count": 16,
   "metadata": {
    "collapsed": false
   },
   "outputs": [],
   "source": [
    "diffs = [abs(item) for item in cratios]\n",
    "mindiff = diffs.index(min(diffs))\n",
    "nbins = nbins[mindiff] # this setting makes it so that the circumference and radius are appropriate"
   ]
  },
  {
   "cell_type": "code",
   "execution_count": 17,
   "metadata": {
    "collapsed": true
   },
   "outputs": [],
   "source": [
    "df['xbin'] = pd.cut(df.secpast,nbins,labels=False)\n",
    "bin_max = df.groupby('xbin').size().max()"
   ]
  },
  {
   "cell_type": "code",
   "execution_count": 18,
   "metadata": {
    "collapsed": false
   },
   "outputs": [],
   "source": [
    "px_w = (bin_max * 2 * thumb_side) + thumb_side\n",
    "px_h = px_w"
   ]
  },
  {
   "cell_type": "code",
   "execution_count": 19,
   "metadata": {
    "collapsed": false
   },
   "outputs": [
    {
     "name": "stdout",
     "output_type": "stream",
     "text": [
      "18800 18800\n"
     ]
    }
   ],
   "source": [
    "print px_w, px_h"
   ]
  },
  {
   "cell_type": "code",
   "execution_count": 20,
   "metadata": {
    "collapsed": true
   },
   "outputs": [],
   "source": [
    "canvas = Image.new('RGB',(px_w,px_h),'hsl(180,0%,100%)')"
   ]
  },
  {
   "cell_type": "code",
   "execution_count": 21,
   "metadata": {
    "collapsed": true
   },
   "outputs": [],
   "source": [
    "def pol2cart(rho, phi):\n",
    "    x = rho * np.cos(phi)\n",
    "    y = rho * np.sin(phi)\n",
    "    return(x, y)"
   ]
  },
  {
   "cell_type": "code",
   "execution_count": 22,
   "metadata": {
    "collapsed": true
   },
   "outputs": [],
   "source": [
    "def bin2phi(binn):\n",
    "    incr = float(360)/nbins\n",
    "    return np.radians(incr*binn)"
   ]
  },
  {
   "cell_type": "code",
   "execution_count": 23,
   "metadata": {
    "collapsed": true
   },
   "outputs": [],
   "source": [
    "def bin2phideg(binn):\n",
    "    incr = float(360)/nbins\n",
    "    return incr*binn"
   ]
  },
  {
   "cell_type": "code",
   "execution_count": 24,
   "metadata": {
    "collapsed": true
   },
   "outputs": [],
   "source": [
    "bins = list(set(list(df.xbin)))"
   ]
  },
  {
   "cell_type": "code",
   "execution_count": 25,
   "metadata": {
    "collapsed": true
   },
   "outputs": [],
   "source": [
    "bins.sort()"
   ]
  },
  {
   "cell_type": "code",
   "execution_count": 26,
   "metadata": {
    "collapsed": false
   },
   "outputs": [
    {
     "name": "stderr",
     "output_type": "stream",
     "text": [
      "/Library/Python/2.7/site-packages/ipykernel/__main__.py:6: SettingWithCopyWarning: \n",
      "A value is trying to be set on a copy of a slice from a DataFrame\n",
      "\n",
      "See the caveats in the documentation: http://pandas.pydata.org/pandas-docs/stable/indexing.html#indexing-view-versus-copy\n"
     ]
    },
    {
     "name": "stdout",
     "output_type": "stream",
     "text": [
      "15\n",
      "65\n",
      "351\n",
      "1251\n",
      "1416\n",
      "2050\n",
      "3342\n"
     ]
    }
   ],
   "source": [
    "for item in bins:\n",
    "    if np.random.binomial(1,.001)==1:\n",
    "        print item\n",
    "    \n",
    "    tmp = df[df.xbin==item]\n",
    "    tmp.sort_values(by=sort_vars,inplace=True,ascending=False)\n",
    "    tmp.reset_index(drop=True,inplace=True)\n",
    "\n",
    "    for i in range(len(tmp)):\n",
    "        im = Image.open(tmp.local_path.loc[i])\n",
    "        im = im.convert('RGBA')\n",
    "        im.thumbnail((thumb_side,thumb_side),Image.ANTIALIAS)\n",
    "        pos = bin_max - i\n",
    "        xy = pol2cart(pos,bin2phi(item))\n",
    "        phi = bin2phideg(item)\n",
    "        im = im.rotate(phi,expand=1)\n",
    "        \n",
    "        xcoord = int(round((xy[0] + bin_max) * thumb_side))\n",
    "        ycoord = int(round((bin_max - xy[1]) * thumb_side)) #bc high in the image is low y\n",
    "        canvas.paste(im,(xcoord,ycoord),im) # tmp treated as a mask for itself"
   ]
  },
  {
   "cell_type": "code",
   "execution_count": 28,
   "metadata": {
    "collapsed": false
   },
   "outputs": [],
   "source": [
    "canvas.save(\"/Users/damoncrockett/Desktop/secondlook.png\")"
   ]
  },
  {
   "cell_type": "code",
   "execution_count": null,
   "metadata": {
    "collapsed": true
   },
   "outputs": [],
   "source": []
  },
  {
   "cell_type": "code",
   "execution_count": null,
   "metadata": {
    "collapsed": true
   },
   "outputs": [],
   "source": []
  }
 ],
 "metadata": {
  "kernelspec": {
   "display_name": "Python 2",
   "language": "python",
   "name": "python2"
  },
  "language_info": {
   "codemirror_mode": {
    "name": "ipython",
    "version": 2
   },
   "file_extension": ".py",
   "mimetype": "text/x-python",
   "name": "python",
   "nbconvert_exporter": "python",
   "pygments_lexer": "ipython2",
   "version": "2.7.10"
  }
 },
 "nbformat": 4,
 "nbformat_minor": 0
}
