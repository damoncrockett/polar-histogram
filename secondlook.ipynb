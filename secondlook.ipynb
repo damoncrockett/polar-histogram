{
 "cells": [
  {
   "cell_type": "code",
   "execution_count": 1,
   "metadata": {
    "collapsed": true
   },
   "outputs": [],
   "source": [
    "from PIL import Image\n",
    "import pandas as pd\n",
    "%matplotlib inline\n",
    "import numpy as np"
   ]
  },
  {
   "cell_type": "code",
   "execution_count": 2,
   "metadata": {
    "collapsed": true
   },
   "outputs": [],
   "source": [
    "DIR = \"/Users/damoncrockett/Desktop/\""
   ]
  },
  {
   "cell_type": "code",
   "execution_count": 3,
   "metadata": {
    "collapsed": true
   },
   "outputs": [],
   "source": [
    "df = pd.read_csv(DIR+\"phew_hsv.csv\")"
   ]
  },
  {
   "cell_type": "markdown",
   "metadata": {},
   "source": [
    "### Plot"
   ]
  },
  {
   "cell_type": "code",
   "execution_count": 46,
   "metadata": {
    "collapsed": true
   },
   "outputs": [],
   "source": [
    "thumb_side = 8\n",
    "sort_vars = ['hue']"
   ]
  },
  {
   "cell_type": "code",
   "execution_count": 47,
   "metadata": {
    "collapsed": true
   },
   "outputs": [],
   "source": [
    "def cratio(nbins):\n",
    "    df['xbin'] = pd.cut(df.secpast,nbins,labels=False)\n",
    "    bin_max = df.groupby('xbin').size().max()\n",
    "    diff = 2*np.pi - float(nbins)/bin_max\n",
    "    return diff"
   ]
  },
  {
   "cell_type": "code",
   "execution_count": 48,
   "metadata": {
    "collapsed": false
   },
   "outputs": [],
   "source": [
    "import matplotlib.pyplot as plt"
   ]
  },
  {
   "cell_type": "code",
   "execution_count": 49,
   "metadata": {
    "collapsed": false
   },
   "outputs": [
    {
     "data": {
      "text/plain": [
       "[<matplotlib.lines.Line2D at 0x109b286d0>]"
      ]
     },
     "execution_count": 49,
     "metadata": {},
     "output_type": "execute_result"
    },
    {
     "data": {
      "image/png": "[encoded data removed]",
      "text/plain": [
       "<matplotlib.figure.Figure at 0x109386510>"
      ]
     },
     "metadata": {},
     "output_type": "display_data"
    }
   ],
   "source": [
    "nbins = range(3810,3815)\n",
    "cratios = [cratio(item) for item in nbins]\n",
    "fig,ax = plt.subplots()\n",
    "ax.plot(nbins,cratios)"
   ]
  },
  {
   "cell_type": "code",
   "execution_count": 50,
   "metadata": {
    "collapsed": false
   },
   "outputs": [],
   "source": [
    "diffs = [abs(item) for item in cratios]\n",
    "mindiff = diffs.index(min(diffs))\n",
    "nbins = nbins[mindiff] # this setting makes it so that the circumference and radius are appropriate"
   ]
  },
  {
   "cell_type": "code",
   "execution_count": 51,
   "metadata": {
    "collapsed": true
   },
   "outputs": [],
   "source": [
    "df['xbin'] = pd.cut(df.secpast,nbins,labels=False)\n",
    "bin_max = df.groupby('xbin').size().max()"
   ]
  },
  {
   "cell_type": "code",
   "execution_count": 52,
   "metadata": {
    "collapsed": false
   },
   "outputs": [],
   "source": [
    "px_w = (bin_max * 2 * thumb_side) + thumb_side\n",
    "px_h = px_w"
   ]
  },
  {
   "cell_type": "code",
   "execution_count": 53,
   "metadata": {
    "collapsed": false
   },
   "outputs": [
    {
     "name": "stdout",
     "output_type": "stream",
     "text": [
      "9560 9560\n"
     ]
    }
   ],
   "source": [
    "print px_w, px_h"
   ]
  },
  {
   "cell_type": "code",
   "execution_count": 54,
   "metadata": {
    "collapsed": true
   },
   "outputs": [],
   "source": [
    "canvas = Image.new('RGB',(px_w,px_h),'hsl(180,0%,50%)')"
   ]
  },
  {
   "cell_type": "code",
   "execution_count": 55,
   "metadata": {
    "collapsed": true
   },
   "outputs": [],
   "source": [
    "def pol2cart(rho, phi):\n",
    "    x = rho * np.cos(phi)\n",
    "    y = rho * np.sin(phi)\n",
    "    return(x, y)"
   ]
  },
  {
   "cell_type": "code",
   "execution_count": 56,
   "metadata": {
    "collapsed": true
   },
   "outputs": [],
   "source": [
    "def bin2phi(binn):\n",
    "    incr = float(360)/nbins\n",
    "    return np.radians(incr*binn)"
   ]
  },
  {
   "cell_type": "code",
   "execution_count": 57,
   "metadata": {
    "collapsed": true
   },
   "outputs": [],
   "source": [
    "def bin2phideg(binn):\n",
    "    incr = float(360)/nbins\n",
    "    return incr*binn"
   ]
  },
  {
   "cell_type": "code",
   "execution_count": 58,
   "metadata": {
    "collapsed": true
   },
   "outputs": [],
   "source": [
    "bins = list(set(list(df.xbin)))"
   ]
  },
  {
   "cell_type": "code",
   "execution_count": 59,
   "metadata": {
    "collapsed": true
   },
   "outputs": [],
   "source": [
    "bins.sort()"
   ]
  },
  {
   "cell_type": "code",
   "execution_count": 60,
   "metadata": {
    "collapsed": false
   },
   "outputs": [
    {
     "name": "stderr",
     "output_type": "stream",
     "text": [
      "/Library/Python/2.7/site-packages/ipykernel/__main__.py:6: SettingWithCopyWarning: \n",
      "A value is trying to be set on a copy of a slice from a DataFrame\n",
      "\n",
      "See the caveats in the documentation: http://pandas.pydata.org/pandas-docs/stable/indexing.html#indexing-view-versus-copy\n"
     ]
    },
    {
     "name": "stdout",
     "output_type": "stream",
     "text": [
      "434\n",
      "510\n",
      "630\n",
      "732\n",
      "1158\n",
      "2384\n",
      "2978\n",
      "3081\n",
      "3782\n"
     ]
    }
   ],
   "source": [
    "for item in bins:\n",
    "    if np.random.binomial(1,.001)==1:\n",
    "        print item\n",
    "    \n",
    "    tmp = df[df.xbin==item]\n",
    "    tmp.sort_values(by=sort_vars,inplace=True,ascending=False)\n",
    "    tmp.reset_index(drop=True,inplace=True)\n",
    "\n",
    "    for i in range(len(tmp)):\n",
    "        im = Image.open(tmp.local_path.loc[i])\n",
    "        im = im.convert('RGBA')\n",
    "        im.thumbnail((thumb_side,thumb_side),Image.ANTIALIAS)\n",
    "        pos = bin_max - i\n",
    "        xy = pol2cart(pos,bin2phi(item))\n",
    "        phi = bin2phideg(item)\n",
    "        im = im.rotate(phi,expand=1)\n",
    "        \n",
    "        xcoord = int(round((xy[0] + bin_max) * thumb_side))\n",
    "        ycoord = int(round((bin_max - xy[1]) * thumb_side)) #bc high in the image is low y\n",
    "        canvas.paste(im,(xcoord,ycoord),im) # tmp treated as a mask for itself"
   ]
  },
  {
   "cell_type": "code",
   "execution_count": 61,
   "metadata": {
    "collapsed": false
   },
   "outputs": [],
   "source": [
    "canvas.save(DIR+\"secondlook.png\")"
   ]
  },
  {
   "cell_type": "code",
   "execution_count": null,
   "metadata": {
    "collapsed": true
   },
   "outputs": [],
   "source": []
  },
  {
   "cell_type": "code",
   "execution_count": null,
   "metadata": {
    "collapsed": true
   },
   "outputs": [],
   "source": []
  }
 ],
 "metadata": {
  "kernelspec": {
   "display_name": "Python 2",
   "language": "python",
   "name": "python2"
  },
  "language_info": {
   "codemirror_mode": {
    "name": "ipython",
    "version": 2
   },
   "file_extension": ".py",
   "mimetype": "text/x-python",
   "name": "python",
   "nbconvert_exporter": "python",
   "pygments_lexer": "ipython2",
   "version": "2.7.10"
  }
 },
 "nbformat": 4,
 "nbformat_minor": 0
}
